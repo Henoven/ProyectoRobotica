{
 "metadata": {
  "language_info": {
   "codemirror_mode": {
    "name": "ipython",
    "version": 3
   },
   "file_extension": ".py",
   "mimetype": "text/x-python",
   "name": "python",
   "nbconvert_exporter": "python",
   "pygments_lexer": "ipython3",
   "version": "3.9.1"
  },
  "orig_nbformat": 2,
  "kernelspec": {
   "name": "python391jvsc74a57bd02031f9519a7c89e6e764d298a7cc2bf310f53fcc368717afac921416e61cc7f7",
   "display_name": "Python 3.9.1 64-bit"
  },
  "metadata": {
   "interpreter": {
    "hash": "2031f9519a7c89e6e764d298a7cc2bf310f53fcc368717afac921416e61cc7f7"
   }
  }
 },
 "nbformat": 4,
 "nbformat_minor": 2,
 "cells": [
  {
   "cell_type": "code",
   "execution_count": null,
   "metadata": {},
   "outputs": [],
   "source": [
    "!pip -q install tensorflow\n",
    "\n",
    "!pip -q install ISR gdown\n",
    "\n",
    "import os\n",
    "if not os.path.exists('weights/rrdn-C4-D3-G32-G032-T10-x4_epoch299.hdf'):\n",
    "  # download pretrained weights\n",
    "  import os\n",
    "  github_weights_url = 'https://github.com/AwaleSajil/ISR_weights'\n",
    "  folder_name = os.path.basename(github_weights_url)\n",
    "  !git clone $github_weights_url\n",
    "  !mv $folder_name 'weights'\n",
    "  \n",
    "#Clone the repositories we are going to use\n",
    "!git clone https://github.com/AwaleSajil/ISR-Youtube-\n",
    "a = !pip install https://raw.githubusercontent.com/AwaleSajil/ghc/master/ghc-1.0-py3-none-any.whl\n",
    "\n",
    "\n",
    "from ISR.models import RDN, RRDN\n",
    "import numpy as np\n",
    "from PIL import Image\n",
    "import IPython.display\n",
    "\n",
    "%cd /\n",
    "from ghc.l_ghc_cf import l_ghc_cf\n",
    "%cd content\n",
    "\n",
    "rrdn_gans = RRDN(arch_params={'C': 4, 'D':3, 'G':32, 'G0':32, 'x':4, 'T': 10})\n",
    "rrdn_gans.model.load_weights('weights/rrdn-C4-D3-G32-G032-T10-x4_epoch299.hdf5')\n",
    "\n",
    "large_rdn = RDN(arch_params={'C': 6, 'D':20, 'G':64, 'G0':64, 'x':2})\n",
    "large_rdn.model.load_weights('weights/rdn-C6-D20-G64-G064-x2_PSNR_epoch086.hdf5')\n",
    "\n",
    "small_rdn = RDN(arch_params={'C': 3, 'D':10, 'G':64, 'G0':64, 'x':2})\n",
    "small_rdn.model.load_weights('weights/rdn-C3-D10-G64-G064-x2_PSNR_epoch134.hdf5')\n",
    "\n",
    "large_noise_cancelling_rdn = RDN(arch_params={'C': 6, 'D':20, 'G':64, 'G0':64, 'x':2})\n",
    "large_noise_cancelling_rdn.model.load_weights('weights/rdn-C6-D20-G64-G064-x2_ArtefactCancelling_epoch219.hdf5')\n",
    "\n",
    "from IPython.display import clear_output\n",
    "clear_output()\n",
    "print(\"Configuración terminaada\")"
   ]
  }
 ]
}